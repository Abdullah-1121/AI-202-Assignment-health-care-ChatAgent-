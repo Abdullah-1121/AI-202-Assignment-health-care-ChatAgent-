{
  "nbformat": 4,
  "nbformat_minor": 0,
  "metadata": {
    "colab": {
      "provenance": []
    },
    "kernelspec": {
      "name": "python3",
      "display_name": "Python 3"
    },
    "language_info": {
      "name": "python"
    }
  },
  "cells": [
    {
      "cell_type": "code",
      "execution_count": 1,
      "metadata": {
        "id": "89uuDilspLFM"
      },
      "outputs": [],
      "source": [
        "%%capture --no-stderr\n",
        "%pip install -U langchain_community langchain_google_genai langchain_experimental  langgraph"
      ]
    },
    {
      "cell_type": "code",
      "source": [
        "from google.colab import userdata\n",
        "gemini_api_key = userdata.get('GEMINI_API_KEY')"
      ],
      "metadata": {
        "id": "pDnVUAqIrgXO"
      },
      "execution_count": 2,
      "outputs": []
    },
    {
      "cell_type": "code",
      "source": [
        "from langchain_google_genai import ChatGoogleGenerativeAI\n",
        "llm = ChatGoogleGenerativeAI(model='gemini-1.5-flash',api_key=gemini_api_key,temprature=0.8)"
      ],
      "metadata": {
        "id": "l3ZU53-ar0KU"
      },
      "execution_count": 3,
      "outputs": []
    },
    {
      "cell_type": "code",
      "source": [
        "\n",
        "from pydantic import BaseModel\n",
        "from langgraph.graph import MessagesState\n",
        "from langgraph.graph import MessagesState\n",
        "from langchain_core.messages import SystemMessage , HumanMessage\n",
        "# Creating Tools\n",
        "def workout_planner (query:str):\n",
        "  ''' Workout planner is a tool that will be called when a user in his query asks about any workout suggestions and some gym related\n",
        "      queries , then it will provide the user some workout and exercise suggestions.\n",
        "  '''\n",
        "\n",
        "  response = llm.invoke(query)\n",
        "  return response\n",
        "\n",
        "def Calorie_counter(query:str):\n",
        "  ''' Calorie counter is a tool that will provide users diet suggestions and calorie count for diets and suggest diet that is beneficial for the health'''\n",
        "  response = llm.invoke(query)\n",
        "  return response\n",
        "\n",
        "tools = [workout_planner , Calorie_counter]\n",
        "# Binding tools with llm\n",
        "llm_with_tools = llm.bind_tools(tools)"
      ],
      "metadata": {
        "id": "f_KqYybWr0GA"
      },
      "execution_count": 4,
      "outputs": []
    },
    {
      "cell_type": "code",
      "source": [
        "#Creating Node\n",
        "sys_msg = SystemMessage(content='You are a gym trainer and workout planner. You have to guide the users effeciently and precisely',name='System')\n",
        "def Assistant (state:MessagesState)->MessagesState:\n",
        "  # Instead of adding, create a list of messages\n",
        "  messages = [sys_msg] + state['messages']\n",
        "  return {'messages': [llm_with_tools.invoke(messages)]}"
      ],
      "metadata": {
        "id": "Mk2i89jsckfw"
      },
      "execution_count": 5,
      "outputs": []
    },
    {
      "cell_type": "code",
      "source": [
        "from langgraph.graph import StateGraph , START , END\n",
        "from langgraph.prebuilt import tools_condition , ToolNode\n",
        "from IPython.display import Image , display\n",
        "from langgraph.checkpoint.memory import MemorySaver\n",
        "memory: MemorySaver = MemorySaver()\n",
        "\n",
        "workflow = StateGraph(MessagesState)\n",
        "# Adding Nodes\n",
        "workflow.add_node('Assistant',Assistant)\n",
        "workflow.add_node('tools',ToolNode(tools))\n",
        "#Adding Edges\n",
        "workflow.add_edge(START,'Assistant')\n",
        "workflow.add_conditional_edges(\n",
        "     \"Assistant\",\n",
        "     #If the response from the assistant is a tool call then it will go the tool and if not it will ends the workflow\n",
        "     tools_condition,\n",
        ")\n",
        "workflow.add_edge('tools','Assistant')\n",
        "Bot = workflow.compile(checkpointer=memory)\n",
        "\n"
      ],
      "metadata": {
        "id": "j0IOnUsWdpFv"
      },
      "execution_count": 10,
      "outputs": []
    },
    {
      "cell_type": "code",
      "source": [
        "display(Image(Bot.get_graph().draw_mermaid_png()))"
      ],
      "metadata": {
        "colab": {
          "base_uri": "https://localhost:8080/",
          "height": 266
        },
        "id": "gDyqlhHPfqkf",
        "outputId": "b9181413-b380-4a4a-d632-c66352a41d43"
      },
      "execution_count": 7,
      "outputs": [
        {
          "output_type": "display_data",
          "data": {
            "image/png": "[encoded data removed]",
            "text/plain": [
              "<IPython.core.display.Image object>"
            ]
          },
          "metadata": {}
        }
      ]
    },
    {
      "cell_type": "code",
      "source": [
        "# Specify a thread\n",
        "config1 = {\"configurable\": {\"thread_id\": \"1\"}}"
      ],
      "metadata": {
        "id": "QFKxazO6IUBA"
      },
      "execution_count": 11,
      "outputs": []
    },
    {
      "cell_type": "code",
      "source": [
        "#Invoking the Graph\n",
        "messages = [HumanMessage(content='I have a chest day today , which exercise will i perform and how many reps , and than tell me about the post workout calorie intake',name='User')]\n",
        "messages = Bot.invoke({'messages': messages},config=config1)"
      ],
      "metadata": {
        "id": "UdH1iDjxf_CX"
      },
      "execution_count": 12,
      "outputs": []
    },
    {
      "cell_type": "code",
      "source": [
        "# Checking the memory\n",
        "messages = [HumanMessage(content='Which muscle group i was talking about to train',name='User')]\n",
        "messages = Bot.invoke({'messages': messages},config=config1)"
      ],
      "metadata": {
        "id": "mmxF1Fu8Ivqe"
      },
      "execution_count": 13,
      "outputs": []
    },
    {
      "cell_type": "code",
      "source": [
        "for m in messages['messages']:\n",
        "  m.pretty_print()"
      ],
      "metadata": {
        "colab": {
          "base_uri": "https://localhost:8080/"
        },
        "id": "_mrfJ133hcmu",
        "outputId": "a414329c-97d9-4b73-dfde-317b74d68a76"
      },
      "execution_count": 14,
      "outputs": [
        {
          "output_type": "stream",
          "name": "stdout",
          "text": [
            "================================\u001b[1m Human Message \u001b[0m=================================\n",
            "Name: User\n",
            "\n",
            "I have a chest day today , which exercise will i perform and how many reps , and than tell me about the post workout calorie intake\n",
            "==================================\u001b[1m Ai Message \u001b[0m==================================\n",
            "Tool Calls:\n",
            "  workout_planner (3b323355-d8d3-49fe-9bcc-50d13476fd26)\n",
            " Call ID: 3b323355-d8d3-49fe-9bcc-50d13476fd26\n",
            "  Args:\n",
            "    query: chest day workout\n",
            "=================================\u001b[1m Tool Message \u001b[0m=================================\n",
            "Name: workout_planner\n",
            "\n",
            "content=\"Here are a few chest day workout options, catering to different experience levels and preferences.  Remember to choose a weight that challenges you while maintaining good form.  Always consult your doctor before starting a new workout routine.\\n\\n**Workout Option 1: Beginner (Focus on Form)**\\n\\n* **Incline Dumbbell Press:** 3 sets of 8-12 reps.  This targets the upper chest.\\n* **Flat Dumbbell Press:** 3 sets of 8-12 reps.  This targets the middle chest.\\n* **Cable Flyes:** 3 sets of 10-15 reps.  This focuses on chest isolation and muscle activation.\\n* **Push-ups:** 3 sets of as many reps as possible (AMRAP).  A great bodyweight exercise for overall chest strength.\\n\\n\\n**Workout Option 2: Intermediate (Increased Volume and Intensity)**\\n\\n* **Barbell Bench Press:** 3 sets of 6-8 reps (heavy weight).  The king of chest exercises.\\n* **Incline Dumbbell Press:** 3 sets of 8-12 reps.\\n* **Decline Dumbbell Press:** 3 sets of 8-12 reps. This targets the lower chest.\\n* **Cable Crossovers:** 3 sets of 12-15 reps.\\n* **Dumbbell Flyes:** 3 sets of 12-15 reps.\\n\\n\\n**Workout Option 3: Advanced (Focus on Hypertrophy and Strength)**\\n\\n* **Barbell Bench Press (close grip):** 3 sets of 5-8 reps (very heavy weight).  Focus on strength.\\n* **Incline Barbell Press:** 3 sets of 6-8 reps (heavy weight).\\n* **Decline Dumbbell Press:** 3 sets of 8-12 reps.\\n* **Cable Flyes (various angles):** 3 sets of 12-15 reps (focus on mind-muscle connection).\\n* **Chest Dips:** 3 sets of AMRAP.  Excellent for building overall chest strength and size.  Can be weighted with a weight belt.\\n\\n\\n**Important Considerations:**\\n\\n* **Warm-up:** Always start with 5-10 minutes of light cardio and dynamic stretching (arm circles, shoulder rotations, etc.) before lifting weights.\\n* **Cool-down:** Finish with 5-10 minutes of static stretching (holding each stretch for 20-30 seconds), focusing on your chest and shoulders.\\n* **Progressive Overload:** Gradually increase the weight, reps, or sets over time to continue challenging your muscles and promoting growth.\\n* **Rest:** Allow for adequate rest between sets (60-90 seconds for most exercises).  Get enough sleep (7-9 hours per night) to allow for muscle recovery.\\n* **Proper Form:** Focus on maintaining proper form throughout each exercise to prevent injuries.  Watch videos and, if possible, work with a trainer to ensure you're using correct technique.\\n* **Listen to your body:** If you feel pain, stop the exercise and consult a medical professional.\\n\\n\\nRemember to adjust these workouts to your own fitness level and goals.  You can also modify these workouts by changing the exercises, sets, reps, or weight to fit your needs.  Consider adding variations to keep your workouts challenging and prevent plateaus.\\n\" additional_kwargs={} response_metadata={'prompt_feedback': {'block_reason': 0, 'safety_ratings': []}, 'finish_reason': 'STOP', 'safety_ratings': []} id='run-1f75f84c-d4e6-4a99-8be7-73bc42623a60-0' usage_metadata={'input_tokens': 4, 'output_tokens': 703, 'total_tokens': 707, 'input_token_details': {'cache_read': 0}}\n",
            "==================================\u001b[1m Ai Message \u001b[0m==================================\n",
            "Tool Calls:\n",
            "  Calorie_counter (929e1ada-26d1-4cbb-b03d-5812abfa7a37)\n",
            " Call ID: 929e1ada-26d1-4cbb-b03d-5812abfa7a37\n",
            "  Args:\n",
            "    query: post workout calorie intake\n",
            "=================================\u001b[1m Tool Message \u001b[0m=================================\n",
            "Name: Calorie_counter\n",
            "\n",
            "content=\"Post-workout calorie intake depends heavily on several factors:\\n\\n* **Intensity and duration of workout:**  A short, low-intensity walk requires less replenishment than a strenuous hour-long HIIT session.\\n* **Individual goals:** Are you trying to lose weight, maintain weight, or gain muscle?\\n* **Dietary needs and preferences:**  Your overall calorie needs and what types of food you prefer will influence your choices.\\n* **Type of workout:**  Endurance activities deplete glycogen stores differently than strength training.\\n\\nThere's no one-size-fits-all answer, but here's a general guide:\\n\\n**General Recommendations:**\\n\\n* **Replenish glycogen stores:** After intense workouts, your body needs to replenish its glycogen (stored carbohydrates) levels.  This is crucial for muscle recovery and preventing future fatigue.  Focus on carbohydrates, ideally those with a moderate glycemic index (GI) to avoid a rapid blood sugar spike and crash.  Good choices include:\\n    * Sweet potatoes\\n    * Brown rice\\n    * Quinoa\\n    * Oatmeal\\n    * Fruit (berries, bananas)\\n\\n* **Repair and build muscle:**  If your workout was strength training, you'll also need protein to help repair and build muscle tissue.  Aim for a combination of carbohydrates and protein. Good sources include:\\n    * Lean meats (chicken, turkey, fish)\\n    * Eggs\\n    * Greek yogurt\\n    * Legumes\\n    * Protein powder (whey, casein, soy, etc.)\\n\\n* **Hydration is key:**  Don't forget to drink plenty of water to rehydrate after your workout.  Electrolytes (sodium, potassium, magnesium) can also be beneficial, especially after longer or more intense sessions.  Consider sports drinks or electrolyte tablets.\\n\\n**Calorie Recommendations (Rough Estimates):**\\n\\nThese are very rough estimates and should be adjusted based on your individual needs:\\n\\n* **Light workout (30 minutes, low intensity):**  You might not need extra calories beyond your regular daily intake.  Focus on hydration and a balanced meal later in the day.\\n* **Moderate workout (45-60 minutes, moderate intensity):**  Aim for 200-400 extra calories.\\n* **Intense workout (60+ minutes, high intensity):**  You might need 400-600 extra calories or more.\\n\\n**Timing:**\\n\\nThe optimal time to consume post-workout calories is within 30-60 minutes after your workout. This is when your body is most receptive to nutrient replenishment.\\n\\n**Important Considerations:**\\n\\n* **Listen to your body:**  Pay attention to your hunger cues.  Don't force yourself to eat if you're not hungry.\\n* **Don't overeat:**  While you need to replenish your energy stores, overeating can lead to weight gain.\\n* **Consult a professional:**  If you have specific dietary needs or goals (weight loss, muscle gain, etc.), consult a registered dietitian or certified personal trainer for personalized advice.\\n\\n\\nThis information is for general knowledge and shouldn't be considered medical advice.  Always consult with a healthcare professional before making significant changes to your diet or exercise routine.\\n\" additional_kwargs={} response_metadata={'prompt_feedback': {'block_reason': 0, 'safety_ratings': []}, 'finish_reason': 'STOP', 'safety_ratings': []} id='run-8c4cf74f-ebde-4eb1-ba3f-53fccaa70c5a-0' usage_metadata={'input_tokens': 5, 'output_tokens': 676, 'total_tokens': 681, 'input_token_details': {'cache_read': 0}}\n",
            "==================================\u001b[1m Ai Message \u001b[0m==================================\n",
            "\n",
            "Based on your workout, I suggest a post-workout meal with carbohydrates for glycogen replenishment and protein for muscle repair.  Good options include a chicken breast with brown rice and vegetables, or a protein shake with fruit.  The exact calorie intake will depend on the intensity and duration of your workout, and your individual needs.  For a moderate workout, an additional 200-400 calories might be appropriate.  Remember to stay hydrated by drinking plenty of water.  If you have specific dietary needs or goals, consult a registered dietitian or certified personal trainer.\n",
            "================================\u001b[1m Human Message \u001b[0m=================================\n",
            "Name: User\n",
            "\n",
            "Which muscle group i was talking about to train\n",
            "==================================\u001b[1m Ai Message \u001b[0m==================================\n",
            "\n",
            "You were asking about a chest day workout, so the muscle group you were referring to is your **chest muscles** (pectorals).\n"
          ]
        }
      ]
    }
  ]
}